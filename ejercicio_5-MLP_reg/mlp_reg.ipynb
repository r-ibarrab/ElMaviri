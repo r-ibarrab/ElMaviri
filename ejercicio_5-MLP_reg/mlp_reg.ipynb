{
 "cells": [
  {
   "cell_type": "markdown",
   "metadata": {},
   "source": [
    "# Introduccion a pytorch\n",
    "En este ejercicio haremos uso de la librería de pytorch para aprendizaje profundo. Para iniciar, ve a la [página de Pytorch](https://pytorch.org/get-started/locally/) e instala la versión que corresponda a tu sistema operativo. Recuerda activar tu ambiente antes de instarlo. La instalación tomará unos minutos.\n",
    "\n",
    "```\n",
    "conda activate sistemas_inteligentes\n",
    "pip3 install torch torchvision torchaudio\n",
    "```"
   ]
  },
  {
   "cell_type": "code",
   "execution_count": 2,
   "metadata": {},
   "outputs": [],
   "source": [
    "import numpy as np\n",
    "import matplotlib.pyplot as plt\n",
    "import pandas as pd\n",
    "import torch\n",
    "import torch.nn  as nn\n",
    "import torch.nn.functional as F\n",
    "from torch.utils.data import Dataset\n",
    "from torch.utils.data import DataLoader\n",
    "from torchvision import datasets\n",
    "from torchvision.transforms import ToTensor\n",
    "import os\n",
    "import json"
   ]
  },
  {
   "cell_type": "code",
   "execution_count": null,
   "metadata": {},
   "outputs": [],
   "source": []
  },
  {
   "cell_type": "markdown",
   "metadata": {},
   "source": [
    "## Datos originales\n",
    "Aquí cargamos los datos originales y observamos los valores de las primeras 3 columnas. En este ejercio utilizaremos el conjunto de datos del problema de las casas que utilizamos para entrenar regresión lineal."
   ]
  },
  {
   "cell_type": "code",
   "execution_count": 3,
   "metadata": {},
   "outputs": [
    {
     "name": "stdout",
     "output_type": "stream",
     "text": [
      "   Id  MSSubClass MSZoning  LotFrontage  LotArea Street Alley LotShape  \\\n",
      "0   1          60       RL         65.0     8450   Pave   NaN      Reg   \n",
      "1   2          20       RL         80.0     9600   Pave   NaN      Reg   \n",
      "2   3          60       RL         68.0    11250   Pave   NaN      IR1   \n",
      "\n",
      "  LandContour Utilities  ... ScreenPorch PoolArea PoolQC Fence MiscFeature  \\\n",
      "0         Lvl    AllPub  ...           0        0    NaN   NaN         NaN   \n",
      "1         Lvl    AllPub  ...           0        0    NaN   NaN         NaN   \n",
      "2         Lvl    AllPub  ...           0        0    NaN   NaN         NaN   \n",
      "\n",
      "  MiscVal MoSold  YrSold  SaleType  SaleCondition  \n",
      "0       0      2    2008        WD         Normal  \n",
      "1       0      5    2007        WD         Normal  \n",
      "2       0      9    2008        WD         Normal  \n",
      "\n",
      "[3 rows x 80 columns]\n",
      "Conjunto de datos de dimensinalidad:(1460, 80), etiquetas (1460,)\n"
     ]
    }
   ],
   "source": [
    "def read_data(data_dir, file):\n",
    "    path = os.path.join(data_dir, file)\n",
    "    df = pd.read_csv(path)\n",
    "    return df\n",
    "\n",
    "# Leer los datasets\n",
    "data_dir = \"./data\"\n",
    "data = read_data(data_dir, \"train.csv\")\n",
    "full_dataset, labels = data.iloc[:, :-1], data.iloc[:, -1]\n",
    "print(full_dataset.head(3))\n",
    "print(f\"Conjunto de datos de dimensinalidad:{full_dataset.shape}, etiquetas {labels.shape}\")"
   ]
  },
  {
   "cell_type": "markdown",
   "metadata": {},
   "source": [
    "## Data split\n",
    "Para poder simular un conjunto de prueba y evaluar nuestro modelo, separamos los datos en entrenamiento y validación."
   ]
  },
  {
   "cell_type": "code",
   "execution_count": 4,
   "metadata": {},
   "outputs": [
    {
     "name": "stdout",
     "output_type": "stream",
     "text": [
      "Entrenamiento de dimensinalidad:(1168, 80), etiquetas (1168,)\n",
      "Validación de dimensinalidad:(292, 80), etiquetas (292,)\n"
     ]
    }
   ],
   "source": [
    "from sklearn.model_selection import train_test_split\n",
    "train_data, val_data, train_labels, val_labels = train_test_split(full_dataset,\n",
    "                                                                  labels,\n",
    "                                                                  test_size = 0.2,\n",
    "                                                                  random_state = 0)\n",
    "print(f\"Entrenamiento de dimensinalidad:{train_data.shape}, etiquetas {train_labels.shape}\")\n",
    "print(f\"Validación de dimensinalidad:{val_data.shape}, etiquetas {val_labels.shape}\")"
   ]
  },
  {
   "cell_type": "markdown",
   "metadata": {},
   "source": [
    "## Preprocesamiento de datos\n",
    "\n",
    "Abre el archivo .csv dentro de la carpeta de data y observa como están dados los datos. Notarás que algunas columnas tienen valores string en lugar de números, algunas filas tienen valores NaN, algunos valores están vacios y demás.\n",
    "\n",
    "La mayoría de los datasets reales son como el que usamos en este ejercicio, sin embargo para poder aprender de ellos necesitamos deshacernos de las tres condiciones anterirmente mencionadas. Por lo tanto, antes de poder aplicar cualquier método de aprendizaje primero deberémos:\n",
    "1. Eliminar cualquier celda con valores NaN\n",
    "2. Remplazar las entradas categóricas (string) por numéricas\n",
    "\n",
    "Para tratar con los NaN, vamos a asignarle un número distintivo. En este caso hemos elegido el número \"-1\". Entonces, para toda celda cuyo valor sea desconocido, simplemente le asignaremos el valor de \"-1\".\n",
    "\n",
    "Para tratar con el segundo caso, crearemos un \"mapa\" de strings a enteros. Por ejemplo si para cada casa se indica el material de construcción como \"block\" y \"ladrillo\" crearemos un mapa que nos de un número entero para cada tipo de material. Por ejemplo considera el mapeo:\n",
    "```\n",
    "material = {\"block\": 1,\n",
    "            \"ladrillo\": 2}\n",
    "```\n",
    "En este caso si en alguna fila la columna de \"material\" originalmente fuera \"block\" entonces en los datos después del pre procesamiento, ahora diría \"1\". Para ello utilizaremos la utilería de sklearn [`OrdinalEncoder`](https://scikit-learn.org/stable/modules/generated/sklearn.preprocessing.OrdinalEncoder.html). Recuerda que es importante aplicar el mismo preprocesamiento a TODOS los datos (incluyendo los de prueba), y que los datos que utilizamos para afinar este preprocesamiento son los de entrenamiento."
   ]
  },
  {
   "cell_type": "code",
   "execution_count": 5,
   "metadata": {},
   "outputs": [],
   "source": [
    "def apply_preprocessing(dataset, feat_encoder, columns):\n",
    "    '''\n",
    "        args:\n",
    "        - dataset (pd.DataFrame): Conjunto de datos\n",
    "        - feat_encoder (OrdinalEncoder): instancia de codificador para las variables de entrada ajustado con datos de entrenamiento\n",
    "        returns:\n",
    "        - transformed_dataset (np.array): dataset transformado\n",
    "    '''\n",
    "    # Reemplazar valores categóricos por numéricos\n",
    "    transformed_dataset = dataset.copy()\n",
    "    transformed_dataset[columns] = feat_encoder.transform(dataset[columns])\n",
    "    # Reemplazar NaN con -1\n",
    "    transformed_dataset[np.isnan(transformed_dataset)] = -1\n",
    "    return transformed_dataset.to_numpy()"
   ]
  },
  {
   "cell_type": "code",
   "execution_count": 6,
   "metadata": {},
   "outputs": [
    {
     "name": "stdout",
     "output_type": "stream",
     "text": [
      "Entrenamiento shapes (1168, 80) (1168,) <class 'numpy.ndarray'>\n",
      "Validacion shapes (292, 80) (292,)\n"
     ]
    }
   ],
   "source": [
    "from sklearn.preprocessing import OrdinalEncoder\n",
    "\n",
    "# Definimos un codificador para los atributos de entrada\n",
    "# Especificamos que para valores desconocidos tome -1\n",
    "# solo usamos entrenamiento apra definir el codificador\n",
    "obj_cols = (train_data.dtypes == 'object')\n",
    "obj_cols = list(obj_cols[obj_cols].index)\n",
    "feat_encoder= OrdinalEncoder(handle_unknown='use_encoded_value',\n",
    "                             unknown_value=-1)\n",
    "feat_encoder.fit(train_data[obj_cols])\n",
    "\n",
    "# Aplicamos el mismo preprocesamiento a todos los datasets\n",
    "train_data = apply_preprocessing(train_data, feat_encoder, obj_cols)\n",
    "val_data = apply_preprocessing(val_data, feat_encoder, obj_cols)\n",
    "\n",
    "# Transformar las etiquetas a arreglos de numpy\n",
    "if not isinstance(train_labels, np.ndarray):\n",
    "    train_labels = train_labels.to_numpy()\n",
    "    val_labels = val_labels.to_numpy()\n",
    "print(\"Entrenamiento shapes\", train_data.shape, train_labels.shape, type(train_data))\n",
    "print(\"Validacion shapes\", val_data.shape, val_labels.shape)"
   ]
  },
  {
   "cell_type": "markdown",
   "metadata": {},
   "source": [
    "Y aplicamos el mismo pre procesamiento a los datos de prueba"
   ]
  },
  {
   "cell_type": "code",
   "execution_count": 7,
   "metadata": {},
   "outputs": [
    {
     "name": "stdout",
     "output_type": "stream",
     "text": [
      "Prueba shapes (1459, 80)\n"
     ]
    }
   ],
   "source": [
    "# Cargamos los datos de prueba y aplicamos el mismo proceso\n",
    "# Solo que en este caso no hay etiquetas\n",
    "test_data = read_data(data_dir, \"test.csv\")\n",
    "# TODO: aplica el preprocesamiento de datos al conjunto de prueba\n",
    "# print(test_data)\n",
    "test_data = apply_preprocessing(test_data, feat_encoder, obj_cols)\n",
    "print(\"Prueba shapes\", test_data.shape)\n",
    "# print(test_data)"
   ]
  },
  {
   "cell_type": "markdown",
   "metadata": {},
   "source": [
    "# Datos preprocesados\n",
    "¿Recuerdas los datos originales? Después del pre procesamiento, esta es la información que recibiría el modelo durante entrenamiento"
   ]
  },
  {
   "cell_type": "code",
   "execution_count": 8,
   "metadata": {},
   "outputs": [
    {
     "name": "stdout",
     "output_type": "stream",
     "text": [
      "Datos después de limpiarlos\n",
      "[[ 6.1900e+02  2.0000e+01  3.0000e+00  9.0000e+01  1.1694e+04  1.0000e+00\n",
      "  -1.0000e+00  3.0000e+00  3.0000e+00  0.0000e+00  4.0000e+00  0.0000e+00\n",
      "   1.6000e+01  2.0000e+00  2.0000e+00  0.0000e+00  2.0000e+00  9.0000e+00\n",
      "   5.0000e+00  2.0070e+03  2.0070e+03  3.0000e+00  0.0000e+00  5.0000e+00\n",
      "   5.0000e+00  1.0000e+00  4.5200e+02  0.0000e+00  4.0000e+00  2.0000e+00\n",
      "   0.0000e+00  3.0000e+00  0.0000e+00  2.0000e+00  4.8000e+01  5.0000e+00\n",
      "   0.0000e+00  1.7740e+03  1.8220e+03  1.0000e+00  0.0000e+00  1.0000e+00\n",
      "   4.0000e+00  1.8280e+03  0.0000e+00  0.0000e+00  1.8280e+03  0.0000e+00\n",
      "   0.0000e+00  2.0000e+00  0.0000e+00  3.0000e+00  1.0000e+00  2.0000e+00\n",
      "   9.0000e+00  5.0000e+00  1.0000e+00  2.0000e+00  1.0000e+00  2.0070e+03\n",
      "   2.0000e+00  3.0000e+00  7.7400e+02  4.0000e+00  4.0000e+00  2.0000e+00\n",
      "   0.0000e+00  1.0800e+02  0.0000e+00  0.0000e+00  2.6000e+02  0.0000e+00\n",
      "  -1.0000e+00 -1.0000e+00 -1.0000e+00  0.0000e+00  7.0000e+00  2.0070e+03\n",
      "   6.0000e+00  5.0000e+00]\n",
      " [ 8.7100e+02  2.0000e+01  3.0000e+00  6.0000e+01  6.6000e+03  1.0000e+00\n",
      "  -1.0000e+00  3.0000e+00  3.0000e+00  0.0000e+00  4.0000e+00  0.0000e+00\n",
      "   1.2000e+01  4.0000e+00  2.0000e+00  0.0000e+00  2.0000e+00  5.0000e+00\n",
      "   5.0000e+00  1.9620e+03  1.9620e+03  3.0000e+00  0.0000e+00  8.0000e+00\n",
      "   8.0000e+00  2.0000e+00  0.0000e+00  3.0000e+00  4.0000e+00  1.0000e+00\n",
      "   3.0000e+00  3.0000e+00  3.0000e+00  5.0000e+00  0.0000e+00  5.0000e+00\n",
      "   0.0000e+00  8.9400e+02  8.9400e+02  1.0000e+00  2.0000e+00  0.0000e+00\n",
      "   4.0000e+00  8.9400e+02  0.0000e+00  0.0000e+00  8.9400e+02  0.0000e+00\n",
      "   0.0000e+00  1.0000e+00  0.0000e+00  2.0000e+00  1.0000e+00  3.0000e+00\n",
      "   5.0000e+00  5.0000e+00  0.0000e+00 -1.0000e+00  5.0000e+00  1.9620e+03\n",
      "   2.0000e+00  1.0000e+00  3.0800e+02  4.0000e+00  4.0000e+00  2.0000e+00\n",
      "   0.0000e+00  0.0000e+00  0.0000e+00  0.0000e+00  0.0000e+00  0.0000e+00\n",
      "  -1.0000e+00 -1.0000e+00 -1.0000e+00  0.0000e+00  8.0000e+00  2.0090e+03\n",
      "   8.0000e+00  4.0000e+00]\n",
      " [ 9.3000e+01  3.0000e+01  3.0000e+00  8.0000e+01  1.3360e+04  1.0000e+00\n",
      "   0.0000e+00  0.0000e+00  1.0000e+00  0.0000e+00  4.0000e+00  0.0000e+00\n",
      "   6.0000e+00  2.0000e+00  2.0000e+00  0.0000e+00  2.0000e+00  5.0000e+00\n",
      "   7.0000e+00  1.9210e+03  2.0060e+03  1.0000e+00  0.0000e+00  1.3000e+01\n",
      "   1.4000e+01  2.0000e+00  0.0000e+00  3.0000e+00  2.0000e+00  0.0000e+00\n",
      "   2.0000e+00  3.0000e+00  3.0000e+00  0.0000e+00  7.1300e+02  5.0000e+00\n",
      "   0.0000e+00  1.6300e+02  8.7600e+02  1.0000e+00  0.0000e+00  1.0000e+00\n",
      "   4.0000e+00  9.6400e+02  0.0000e+00  0.0000e+00  9.6400e+02  1.0000e+00\n",
      "   0.0000e+00  1.0000e+00  0.0000e+00  2.0000e+00  1.0000e+00  3.0000e+00\n",
      "   5.0000e+00  5.0000e+00  0.0000e+00 -1.0000e+00  5.0000e+00  1.9210e+03\n",
      "   2.0000e+00  2.0000e+00  4.3200e+02  4.0000e+00  4.0000e+00  2.0000e+00\n",
      "   0.0000e+00  0.0000e+00  4.4000e+01  0.0000e+00  0.0000e+00  0.0000e+00\n",
      "  -1.0000e+00 -1.0000e+00 -1.0000e+00  0.0000e+00  8.0000e+00  2.0090e+03\n",
      "   8.0000e+00  4.0000e+00]]\n"
     ]
    }
   ],
   "source": [
    "print(\"Datos después de limpiarlos\")\n",
    "print(train_data[:3])"
   ]
  },
  {
   "cell_type": "markdown",
   "metadata": {},
   "source": [
    "# Definir un dataloader\n",
    "\n",
    "Después de haber limpiado los datos, definiremos un dataloader para poder iterarlos. Esta es una clase proprietaria de pytorch donde podemos aplicar distintas técnicas de regularización y preprocesamiento al dataset según se requiera. También nos permitirá definir cómo queremos recibir los datos durante el entrenamiento. Puedes leer mas sobre los dataloaders en el siguiente enlace: [dataloaders en pytorch](https://pytorch.org/tutorials/beginner/basics/data_tutorial.html)"
   ]
  },
  {
   "cell_type": "code",
<<<<<<< HEAD
   "execution_count": 8,
=======
   "execution_count": 9,
>>>>>>> 626bb1bafbdfb3b496d0bd31e514959f027af722
   "metadata": {},
   "outputs": [
    {
     "name": "stdout",
     "output_type": "stream",
     "text": [
      "1168 292\n"
     ]
    }
   ],
   "source": [
    "class HousingDataset(Dataset):\n",
    "    def __init__(self, data, labels):\n",
    "        self.data = data.astype('float32')\n",
    "        self.labels = labels.astype('float32')\n",
    "\n",
    "        # TODO: calcula la cantidad de variables de entrada y salida\n",
    "        self.input_dims = data.shape[-1]\n",
    "        self.output_dims =  1\n",
    "\n",
    "    def __len__(self):\n",
    "        return len(self.data)\n",
    "\n",
    "    def __getitem__(self, idx):\n",
    "        # print(self.data.shape, type(self.data), idx)\n",
    "        # print(self.labels.shape, type(self.labels), idx)\n",
    "        datapoint = self.data[idx]\n",
    "        label = self.labels[idx]\n",
    "        label = np.expand_dims(label,0) # Transformarlo a vector de 1x1\n",
    "        return datapoint, label\n",
    "\n",
    "# DATASETS\n",
    "train_dataset = HousingDataset(train_data, train_labels)\n",
    "val_dataset = HousingDataset(val_data, val_labels)\n",
    "total_train_data, total_val_data = len(train_dataset), len(val_dataset)\n",
    "\n",
    "print(total_train_data, total_val_data)"
   ]
  },
  {
   "cell_type": "markdown",
   "metadata": {},
   "source": [
    "Para poder aplicar descenso de gradiente estocástico necesitamos poder seleccionar distintos indices de nuestro conjunto de datos. Esto está automatizado por pytorch y nosotros podemos indicarle de qué tamaño será el batch size y si queremos que seleccione los indices aleatoriamente o no.\n",
    "\n",
    "En la celda anterior nosotros definimos nuestro conjunto de datos de las casas (HousingDataset) donde dado un indice i, regresamos un tuple (dato[i], label[i]).\n",
    "\n",
    "En la siguiente celda definimos nuestros dataloaders donde especificamos el batch size a utilizar y probamos como funciona. Intenta cambiar el batch size y observa cuantas iteraciones hace el dataloader."
   ]
  },
  {
   "cell_type": "code",
<<<<<<< HEAD
   "execution_count": 9,
=======
   "execution_count": 10,
>>>>>>> 626bb1bafbdfb3b496d0bd31e514959f027af722
   "metadata": {},
   "outputs": [
    {
     "name": "stdout",
     "output_type": "stream",
     "text": [
      "torch.Size([70, 80])\n",
      "torch.Size([70, 80])\n",
      "torch.Size([70, 80])\n",
      "torch.Size([70, 80])\n",
      "torch.Size([70, 80])\n",
      "torch.Size([70, 80])\n",
      "torch.Size([70, 80])\n",
      "torch.Size([70, 80])\n",
      "torch.Size([70, 80])\n",
      "torch.Size([70, 80])\n",
      "torch.Size([70, 80])\n",
      "torch.Size([70, 80])\n",
      "torch.Size([70, 80])\n",
      "torch.Size([70, 80])\n",
      "torch.Size([70, 80])\n",
      "torch.Size([70, 80])\n",
      "torch.Size([48, 80])\n",
      "En ENTRENAMIENTO hay 1168 datos. Hicimos 16 iteraciones con un batch_size de 70\n",
      "En VALIDACIÓN hay 292 datos. Hicimos 4 iteraciones con un batch_size de 70\n"
     ]
    }
   ],
   "source": [
    "# TODO: Cambia el batch size y responde la pregunta de la celda siguiente\n",
    "batch_size = 70\n",
    "\n",
    "# DATALOADERS\n",
    "train_loader = DataLoader(train_dataset,\n",
    "                          batch_size=batch_size,\n",
    "                          shuffle=True)\n",
    "val_loader = DataLoader(val_dataset,\n",
    "                        batch_size=batch_size,\n",
    "                        shuffle=False)\n",
    "\n",
    "# Iteraciones\n",
    "for i, data in enumerate(train_loader, 0):\n",
    "    # get the inputs; data is a list of [inputs, labels]\n",
    "    inputs, labels = data\n",
    "    print(inputs.shape)\n",
    "print(f\"En ENTRENAMIENTO hay {len(train_dataset)} datos. Hicimos {i} iteraciones con un batch_size de {batch_size}\")\n",
    "\n",
    "for i, data in enumerate(val_loader, 0):\n",
    "    # get the inputs; data is a list of [inputs, labels]\n",
    "    inputs, labels = data\n",
    "print(f\"En VALIDACIÓN hay {len(val_dataset)} datos. Hicimos {i} iteraciones con un batch_size de {batch_size}\")\n",
    "    "
   ]
  },
  {
   "cell_type": "markdown",
   "metadata": {},
   "source": [
    "## TODO: Responde\n",
    "¿Como se relaciona la cantidad de iteraciones, la cantidad de datos en el dataset y el batch_size? a mayor batch size habra menos iteraciones sobre el dataset"
   ]
  },
  {
   "cell_type": "markdown",
   "metadata": {},
   "source": [
    "# Definir la red neuronal\n",
    "Ahora vamos a definir la red neuronal (: Aquí mostraremos dos formas de hacerlo. La primera consiste en utilizar la clase sequential y la segunda es hacerlo \"manualmente\". La ventaja de la última, es que tienes más control sobre como defines tu red. \n",
    "Investiga como declarar una red neuronal en pytorch usando la clase [sequential]([https://pytorch.org/docs/stable/generated/torch.nn.Sequential.html).\n",
    "\n",
    "Otras clases importantes son las funciones de activación: [non-linear Activations](https://pytorch.org/docs/stable/nn.html#non-linear-activations-weighted-sum-nonlinearity)\n",
    "y las capas completamente conectadas: [linear layers](https://pytorch.org/docs/stable/generated/torch.nn.Linear.html)"
   ]
  },
  {
   "cell_type": "code",
<<<<<<< HEAD
   "execution_count": 10,
=======
   "execution_count": 11,
>>>>>>> 626bb1bafbdfb3b496d0bd31e514959f027af722
   "metadata": {},
   "outputs": [
    {
     "name": "stdout",
     "output_type": "stream",
     "text": [
      "Definiendo red con 80 variables de entradas y 1 variables de salida\n"
     ]
    }
   ],
   "source": [
    "# Tenemos \n",
    "input_dims = train_dataset.input_dims\n",
    "output_dims = 1\n",
    "print(f\"Definiendo red con {input_dims} variables de entradas y {output_dims} variables de salida\")"
   ]
  },
  {
   "cell_type": "markdown",
   "metadata": {},
   "source": [
    "### Opción A)\n",
    "Declarando la red con nn.Sequential"
   ]
  },
  {
   "cell_type": "code",
<<<<<<< HEAD
   "execution_count": 11,
=======
   "execution_count": 12,
>>>>>>> 626bb1bafbdfb3b496d0bd31e514959f027af722
   "metadata": {},
   "outputs": [],
   "source": [
    "# TODO: Agrega más capas a la siguiente red.\n",
    "# Puedes utilizar funciones de activación ReLU para las capas escondidas\n",
    "# Definiendo la red con sequential\n",
    "net1 = nn.Sequential(\n",
    "        nn.Linear(input_dims, 1024),   # capa lineal entran ..., salen ... features\n",
    "        nn.ReLU(),             # activación ReLu a la lineal anterior\n",
    "        nn.Linear(1024, 512),   # capa lineal entran ..., salen ... features\n",
    "        nn.ReLU(),             # activación ReLu a la lineal anterior\n",
    "        nn.Linear(512, output_dims),   # capa lineal entran ... salen ... features\n",
    "    )"
   ]
  },
  {
   "cell_type": "markdown",
   "metadata": {},
   "source": [
    "### Opción B)\n",
    "Declarando la red \"manualmente\""
   ]
  },
  {
   "cell_type": "code",
   "execution_count": 13,
   "metadata": {},
   "outputs": [],
   "source": [
    "# TODO: Agrega más capas a la siguiente red y modifca el forward pass de acuerdo a tus adiciones\n",
    "class Net(nn.Module):\n",
    "    def __init__(self, input_dims, output_dims):\n",
    "        super().__init__()\n",
    "        # TODO: Define las capas así como la cantidad de variables de entrada y salida\n",
    "        self.fc1 = nn.Linear(input_dims, 254)\n",
    "        self.fc2 = nn.Linear(254, 254)\n",
    "        self.fc3 = nn.Linear(254, output_dims)\n",
    "\n",
    "    def forward(self, x):\n",
    "        # TODO: Define el forward pass\n",
    "        z1 = self.fc1 (x)\n",
    "        a1 = F.relu (z1)\n",
    "        z2 = self.fc2 (a1)\n",
    "        a2 = F.relu (z2)\n",
    "        \n",
    "        y_hat = self.fc3 (a2)\n",
    "        return y_hat\n",
    "\n",
    "net2 = Net(input_dims, output_dims)"
   ]
  },
  {
   "cell_type": "markdown",
   "metadata": {},
   "source": [
    "## Inferencia / forward pass\n",
    "\n",
    "En este momento tenemos una red no entrenada, sin embargo ya podemos usarla para inferencia. Vamos a intentar propagar algunos datos de entrenamiento y observemos las predicciones."
   ]
  },
  {
   "cell_type": "code",
<<<<<<< HEAD
   "execution_count": 12,
=======
   "execution_count": 14,
>>>>>>> 626bb1bafbdfb3b496d0bd31e514959f027af722
   "metadata": {},
   "outputs": [
    {
     "name": "stdout",
     "output_type": "stream",
     "text": [
<<<<<<< HEAD
      "Propagando matriz de datos de dimensionalidad torch.Size([1024, 80]), con etiquetas de dimensionalidad torch.Size([1024, 1])\n",
      "Costo de red 1: 39421267968.0\n"
     ]
    },
    {
     "ename": "NameError",
     "evalue": "name 'net2' is not defined",
     "output_type": "error",
     "traceback": [
      "\u001b[1;31m---------------------------------------------------------------------------\u001b[0m",
      "\u001b[1;31mNameError\u001b[0m                                 Traceback (most recent call last)",
      "Cell \u001b[1;32mIn[12], line 15\u001b[0m\n\u001b[0;32m     11\u001b[0m \u001b[39mprint\u001b[39m(\u001b[39mf\u001b[39m\u001b[39m\"\u001b[39m\u001b[39mCosto de red 1: \u001b[39m\u001b[39m{\u001b[39;00mcost1\u001b[39m}\u001b[39;00m\u001b[39m\"\u001b[39m)\n\u001b[0;32m     13\u001b[0m \u001b[39m# ==== Red 2 ==== #\u001b[39;00m\n\u001b[0;32m     14\u001b[0m \u001b[39m# Forward pass de red 2\u001b[39;00m\n\u001b[1;32m---> 15\u001b[0m pred_net2 \u001b[39m=\u001b[39m net2(X)\n\u001b[0;32m     17\u001b[0m \u001b[39m# Calculando el costo\u001b[39;00m\n\u001b[0;32m     18\u001b[0m cost2 \u001b[39m=\u001b[39m loss(pred_net2, y_hat)  \u001b[39m# Pred, target\u001b[39;00m\n",
      "\u001b[1;31mNameError\u001b[0m: name 'net2' is not defined"
=======
      "Propagando matriz de datos de dimensionalidad torch.Size([70, 80]), con etiquetas de dimensionalidad torch.Size([70, 1])\n",
      "Costo de red 1: 38876020736.0\n",
      "Costo de red 2: 38912741376.0\n"
>>>>>>> 626bb1bafbdfb3b496d0bd31e514959f027af722
     ]
    }
   ],
   "source": [
    "X, y_hat = next(iter(train_loader))\n",
    "print(f\"Propagando matriz de datos de dimensionalidad {X.shape}, con etiquetas de dimensionalidad {y_hat.shape}\")\n",
    "loss = nn.MSELoss()\n",
    "\n",
    "# ==== Red 1 ==== #\n",
    "# Forward pass de red 1\n",
    "pred_net1 = net1(X)\n",
    "\n",
    "# Calculando el costo\n",
    "cost1 = loss(pred_net1, y_hat)  # Pred, target\n",
    "print(f\"Costo de red 1: {cost1}\")\n",
    "\n",
    "# ==== Red 2 ==== #\n",
    "# Forward pass de red 2\n",
    "pred_net2 = net2(X)\n",
    "\n",
    "# Calculando el costo\n",
    "cost2 = loss(pred_net2, y_hat)  # Pred, target\n",
    "print(f\"Costo de red 2: {cost2}\")"
   ]
  },
  {
   "cell_type": "markdown",
   "metadata": {},
   "source": [
    "## Probando el pipeline\n",
    "Ya estamos casi listos para entrenar! pero antes... define la función validation_step.\n",
    "\n",
    "Durante entrenamiento, al final de cada epoch predeciremos el **costo total** del conjunto de datos de validación. Esto nos permitirá determinar si la actualización de los pesos está convergiendo a un valor deseado, y en base a ello modificar los hiperparámetros de ser necesario. Esta función deberá:\n",
    "- calcular las predicciones de un minibatch\n",
    "- calcular el costo del minibatch\n",
    "- sumar los costos para regresar el costo promedio por minibatch"
   ]
  },
  {
   "cell_type": "code",
   "execution_count": 15,
   "metadata": {},
   "outputs": [
    {
     "name": "stdout",
     "output_type": "stream",
     "text": [
      "Costo TOTAL de validación antes de entrenar: 42590996070.4\n"
     ]
    }
   ],
   "source": [
    "def validation_step(val_loader, net, cost_function):\n",
    "    '''\n",
    "        Realiza un epoch completo en el conjunto de validación\n",
    "        args:\n",
    "        - val_loader (torch.DataLoader): dataloader para los datos de validación\n",
    "        - net: definición de la red neuronal (con nn.Sequential o la clase anteriormente definida)\n",
    "        - cost_function(torch.nn): Función de costo a utilizar\n",
    "\n",
    "        returns:\n",
    "        - val_loss (float): el costo total (promedio por minibatch) de todos los datos de validación\n",
    "    '''\n",
    "    val_loss = 0.0\n",
    "    for i, data in enumerate(val_loader, 0):\n",
    "        # get the inputs; data is a list of [inputs, labels]\n",
    "        inputs, labels = data\n",
    "\n",
    "        # Este decorador de \"torch.inference_mode()\" solo se utiliza DURANTE INFERENCIA\n",
    "        # ya que lo que hace es evitar que se puedan actualizar los parámetros de la red.\n",
    "        # Por lo tanto es importante solo usarlo en inferencia (es decir, evítalo en entrenamiento)\n",
    "        with torch.inference_mode():\n",
    "            # TODO: Calcula las predicciones de \"inputs\"\n",
    "            outputs = net(inputs)\n",
    "\n",
    "            # Calcula el costo\n",
    "            loss = cost_function(outputs, labels)\n",
    "\n",
    "            # Sumamos los costos para calcular el promedio\n",
    "            val_loss += loss.item()\n",
    "    return val_loss/len(val_loader)\n",
    "\n",
    "# Probando el validation_step\n",
    "loss = nn.MSELoss()\n",
    "costo_validacion = validation_step(val_loader, net1, loss)\n",
    "print(f\"Costo TOTAL de validación antes de entrenar: {costo_validacion}\")"
   ]
  },
  {
   "cell_type": "markdown",
   "metadata": {},
   "source": [
    "# Entrenamiento"
   ]
  },
  {
   "cell_type": "markdown",
   "metadata": {},
   "source": [
    "## Curvas de entrenamiento\n",
    "Para poder visualizar el entrenamiento de la red en tiempo real, primero definimos una clase de utiliería. Ejecuta la celda y procede a la siguiente sección."
   ]
  },
  {
   "cell_type": "code",
   "execution_count": 16,
   "metadata": {},
   "outputs": [],
   "source": [
    "class PlotLosses():\n",
    "    def __init__(self, logs={}):\n",
    "        self.i = 0\n",
    "        self.x = []\n",
    "        self.losses = []\n",
    "        self.val_losses = []\n",
    "        self.fig = plt.figure()\n",
    "        \n",
    "        self.logs = []\n",
    "\n",
    "    def on_epoch_end(self, epoch, train_loss, val_loss):        \n",
    "        self.x.append(self.i)\n",
    "        self.losses.append(train_loss)\n",
    "        self.val_losses.append(val_loss)\n",
    "        self.i += 1\n",
    "        plt.plot(self.x, self.losses, label=\"Costo de entrenamiento promedio\")\n",
    "        plt.plot(self.x, self.val_losses, label=\"Costo de validación promedio\")\n",
    "        plt.xlabel('epochs')\n",
    "        plt.ylabel('Loss')\n",
    "        plt.legend()\n",
    "        plt.show()"
   ]
  },
  {
   "cell_type": "markdown",
   "metadata": {},
   "source": [
    "## Optimización"
   ]
  },
  {
   "cell_type": "markdown",
   "metadata": {},
   "source": [
    "Como vimos en clase, para entrenar la red es necesario antes definir los hiperparámetros. Estos incluyen:\n",
    "- Los epochs\n",
    "- El ritmo de aprendizaje (learning_rate)\n",
    "- El batch_size\n",
    "- La cantidad de capas\n",
    "- La cantidad de neuronas por capa\n",
    "\n",
    "Existen muchos otros hiperparámetros para obtener mejor generalización, sin embargo por ahora nos enfocaremos en estos.\n",
    "En la siguiente celda puedes modificar los hiperparámetros de entrenamiento. Recuerda siempre correr esta celda antes de entrenar la red para que se reflejen los nuevos hiperparámetros!"
   ]
  },
  {
   "cell_type": "code",
   "execution_count": 17,
   "metadata": {},
   "outputs": [],
   "source": [
    "import torch.optim as optim\n",
    "# TODO: Modifica los hiperparámetros y prueba entrenar con ellos hasta que encuentres una configuración adecuada\n",
    "# Hiperparametros\n",
    "config = {\n",
    "    \"n_epochs\": 265,\n",
    "    \"lr\": 1e-11,\n",
    "    \"batch_size\": 512,\n",
    "}\n",
    "\n",
    "train_loader = DataLoader(train_dataset,\n",
    "                          batch_size=config['batch_size'],\n",
    "                          shuffle=True)\n",
    "val_loader = DataLoader(val_dataset,\n",
    "                        batch_size=config['batch_size'],\n",
    "                        shuffle=False)"
   ]
  },
  {
   "cell_type": "markdown",
   "metadata": {},
   "source": [
    "Ahora si! estamos listos para entrenar tu primera red neuronal. En esta celda aplicarás descenso de gradiente estocástico al dataset del problema de las casas, utilizando TODAS las variables de entrada. Para ellos deberás:\n",
    "- Definir la función de costo\n",
    "- Hacer el forward pass\n",
    "- Calcular el costo del minibatch\n",
    "- Calcular el gradiente del minibatch\n",
    "- Actualizar los pesos con el gradiente anterior\n",
    "\n",
    "y repetir los pasos anteriores por una cantidad de epochs determinada.\n",
    "\n",
    "Una vez finalizado todo corre el entrenamiento y visualiza como cambia el loss según se entrena la red."
   ]
  },
  {
   "cell_type": "code",
<<<<<<< HEAD
   "execution_count": 1,
   "metadata": {},
   "outputs": [
    {
     "ename": "NameError",
     "evalue": "name 'train_dataset' is not defined",
     "output_type": "error",
     "traceback": [
      "\u001b[1;31m---------------------------------------------------------------------------\u001b[0m",
      "\u001b[1;31mNameError\u001b[0m                                 Traceback (most recent call last)",
      "Cell \u001b[1;32mIn[1], line 6\u001b[0m\n\u001b[0;32m      3\u001b[0m \u001b[39mimport\u001b[39;00m \u001b[39mtime\u001b[39;00m\n\u001b[0;32m      5\u001b[0m \u001b[39m# TODO: Elige la red que quieres utilizar. Tambien recuerda que puedes modificarla a tu gusto\u001b[39;00m\n\u001b[1;32m----> 6\u001b[0m input_dims \u001b[39m=\u001b[39m train_dataset\u001b[39m.\u001b[39minput_dims\n\u001b[0;32m      7\u001b[0m output_dims \u001b[39m=\u001b[39m train_dataset\u001b[39m.\u001b[39moutput_dims\n\u001b[0;32m      8\u001b[0m net \u001b[39m=\u001b[39m Net(input_dims, output_dims)\n",
      "\u001b[1;31mNameError\u001b[0m: name 'train_dataset' is not defined"
=======
   "execution_count": 18,
   "metadata": {},
   "outputs": [
    {
     "data": {
      "image/png": "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\n",
      "text/plain": [
       "<Figure size 640x480 with 1 Axes>"
      ]
     },
     "metadata": {},
     "output_type": "display_data"
    },
    {
     "name": "stdout",
     "output_type": "stream",
     "text": [
      "Finished Training\n"
>>>>>>> 626bb1bafbdfb3b496d0bd31e514959f027af722
     ]
    }
   ],
   "source": [
    "from IPython import display\n",
    "%matplotlib inline\n",
    "import time\n",
    "\n",
    "# TODO: Elige la red que quieres utilizar. Tambien recuerda que puedes modificarla a tu gusto\n",
    "input_dims = train_dataset.input_dims\n",
    "output_dims = train_dataset.output_dims\n",
    "net = Net(input_dims, output_dims)\n",
    "\n",
    "# TODO: Define la función de costo a utilizar\n",
<<<<<<< HEAD
    "cost_function = nn.MSELoss\n",
=======
    "# nn.CrossEntropyLoss()\n",
    "cost_function = torch.nn.MSELoss()\n",
    "\n",
>>>>>>> 626bb1bafbdfb3b496d0bd31e514959f027af722
    "\n",
    "# Mandamos los parametros de la red para que los pueda optimizar\n",
    "optimizer = optim.SGD(net.parameters(),\n",
    "                       lr=config['lr'])\n",
    "\n",
    "loss_plot = PlotLosses()\n",
    "for epoch in range(config['n_epochs']):  # loop over the dataset multiple times\n",
    "    train_loss = 0.0\n",
    "    for i, data in enumerate(train_loader, 0):\n",
    "        # get the inputs; data is a list of [inputs, labels]\n",
    "        inputs, labels = data\n",
    "\n",
    "        # zero the parameter gradients\n",
    "        optimizer.zero_grad()\n",
    "\n",
    "        # TODO: Realiza el forward pass/ las predicciones actuales para los datos \"inputs\"\n",
<<<<<<< HEAD
    "        outputs = net(inputs)\n",
    "\n",
    "        # TODO: Calcula el costo para las predicciones y las etiquetas(labels)\n",
    "        loss = cost_function(outputs,labels)\n",
=======
    "        outputs = net.forward(inputs)\n",
    "\n",
    "        # TODO: Calcula el costo para las predicciones y las etiquetas(labels)\n",
    "        loss = cost_function(outputs, labels)\n",
>>>>>>> 626bb1bafbdfb3b496d0bd31e514959f027af722
    "\n",
    "        # TODO: Calcula los gradientes para todos los parámetros\n",
    "        loss.backward()\n",
    "\n",
    "        # TODO: Actualiza los pesos\n",
<<<<<<< HEAD
    "        optimizer.step\n",
=======
    "        optimizer.step()\n",
    "\n",
    "\n",
>>>>>>> 626bb1bafbdfb3b496d0bd31e514959f027af722
    "        # Sumamos el costo del minibatch para calcular el promedio\n",
    "        train_loss += loss.item()\n",
    "    \n",
    "    # Calculamos el costo promedio\n",
    "    train_loss = train_loss/len(train_loader)\n",
    "    \n",
    "    # Por cada \n",
    "    val_loss = validation_step(val_loader, net, cost_function)\n",
    "\n",
    "    # Actualizamos la gráfica de las curvas de entrenamiento\n",
    "    display.display(plt.gcf())\n",
    "    display.clear_output(wait=True)\n",
    "    time.sleep(0.5)\n",
    "    loss_plot.on_epoch_end(epoch, train_loss, val_loss)\n",
    "print('Finished Training')"
   ]
  },
  {
   "cell_type": "markdown",
   "metadata": {},
   "source": [
    "# Conjunto de prueba (Inferencia)\n",
    "Ahora que la red está entrenada, vamos a predecir los valores para el conjunto de prueba. La siguiente celda utiliza la red que has entrenado anteriormente, calcula las predicciones y genera un csv con las mismas. \n",
    "\n",
    "Vamos a ver que equipo logra el menor costo! Ya que tengas las predicciones del conjunto de prueba, súbelas a la [siguiente competencia de Kaggle](https://www.kaggle.com/t/b62cf05f3486cb800056329ff7f44bf1) para que veas el leaderboard.\n",
    "\n",
    "En esta competencia podrán participar los dos grupos y los equipos ganadores recibirán puntos extra en el examen (:\n",
    "Puedes subir tus predicciones más de una vez.\n",
    "\n",
    "Si te interesa encontrar maneras de mejorar la predicción de tu red, puedes consultar la documentación de pytorch sobre [Optimizadores](https://pytorch.org/docs/stable/optim.html).\n",
    "\n",
    "Puedes intentar, investigar sobre los parámetros adicionales de [Descenso de gradiente Estocástico (SGD)](https://pytorch.org/docs/stable/generated/torch.optim.SGD.html#torch.optim.SGD) o usar un optimizador distinto como [ADAM](https://pytorch.org/docs/stable/generated/torch.optim.Adam.html?highlight=adam#torch.optim.Adam), [ADAGRAD](https://pytorch.org/docs/stable/generated/torch.optim.Adagrad.html#torch.optim.Adagrad) etc."
   ]
  },
  {
   "cell_type": "code",
   "execution_count": 19,
   "metadata": {},
   "outputs": [
    {
     "name": "stdout",
     "output_type": "stream",
     "text": [
      "Prueba shapes (1459, 80)\n"
     ]
    }
   ],
   "source": [
    "# Cargamos los datos de prueba y aplicamos el mismo proceso\n",
    "# Solo que en este caso no hay etiquetas\n",
    "test_data = read_data(data_dir, \"test.csv\")\n",
    "\n",
    "ids = np.array(test_data['Id'], dtype=int)\n",
    "test_data = apply_preprocessing(test_data, feat_encoder, obj_cols)\n",
    "print(\"Prueba shapes\", test_data.shape)\n",
    "\n",
    "test_data = torch.tensor(test_data, dtype=torch.float)\n",
    "with torch.inference_mode():\n",
    "    preds = net(test_data)\n",
    "\n",
    "preds = preds.detach().cpu().numpy()\n",
    "submission_df = pd.DataFrame({\n",
    "    \"Id\": ids,\n",
    "    \"SalePrice\": preds.squeeze()\n",
    "})\n",
    "submission_df.to_csv(\"test_preds.csv\", index=False)"
   ]
  },
  {
   "cell_type": "code",
   "execution_count": null,
   "metadata": {},
   "outputs": [],
   "source": []
  }
 ],
 "metadata": {
  "kernelspec": {
   "display_name": "Python 3 (ipykernel)",
   "language": "python",
   "name": "python3"
  },
  "language_info": {
   "codemirror_mode": {
    "name": "ipython",
    "version": 3
   },
   "file_extension": ".py",
   "mimetype": "text/x-python",
   "name": "python",
   "nbconvert_exporter": "python",
   "pygments_lexer": "ipython3",
   "version": "3.8.16"
  },
  "vscode": {
   "interpreter": {
    "hash": "04dc998fdd71cb65825f35fa039c285a87c761883882ab18ec8c9090ce63cd9f"
   }
  }
 },
 "nbformat": 4,
 "nbformat_minor": 2
}
